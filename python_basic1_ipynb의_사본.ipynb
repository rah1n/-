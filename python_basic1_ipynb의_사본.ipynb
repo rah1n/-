{
  "nbformat": 4,
  "nbformat_minor": 0,
  "metadata": {
    "kernelspec": {
      "display_name": "Python 3",
      "language": "python",
      "name": "python3"
    },
    "language_info": {
      "codemirror_mode": {
        "name": "ipython",
        "version": 3
      },
      "file_extension": ".py",
      "mimetype": "text/x-python",
      "name": "python",
      "nbconvert_exporter": "python",
      "pygments_lexer": "ipython3",
      "version": "3.8.5"
    },
    "colab": {
      "provenance": [],
      "collapsed_sections": [
        "QnDuMNMPhnxH",
        "vXKzB9SXoUj-",
        "aWfTOYGp2yhY",
        "yblHjrLu3rGz"
      ],
      "toc_visible": true,
      "include_colab_link": true
    }
  },
  "cells": [
    {
      "cell_type": "markdown",
      "metadata": {
        "id": "view-in-github",
        "colab_type": "text"
      },
      "source": [
        "<a href=\"https://colab.research.google.com/github/rah1n/-/blob/main/python_basic1_ipynb%EC%9D%98_%EC%82%AC%EB%B3%B8.ipynb\" target=\"_parent\"><img src=\"https://colab.research.google.com/assets/colab-badge.svg\" alt=\"Open In Colab\"/></a>"
      ]
    },
    {
      "cell_type": "markdown",
      "metadata": {
        "id": "UIPfKysyew6L"
      },
      "source": [
        "# Python basic I"
      ]
    },
    {
      "cell_type": "markdown",
      "metadata": {
        "id": "Ea8QfVmdew6L"
      },
      "source": [
        "데이터 마이닝 기법을 배우기 앞서 파이썬 기본 문법을 예시를 통해 배워보자. 이 외에 수업을 위해 추가적으로 알아야 하는 문법이 있다면 수업 중간에 필요할 때 설명할 예정이다. 파이썬 기초를 더 다지고 싶다면 도서관에서 파이썬 관련 도서를 빌려 보거나 인터넷 자료를 참조하도록 한다.\n",
        "\n",
        "*텍스트에서 줄바꿈을 하기 위해서는 줄 마지막에 Space 2개를 넣고 엔터치기"
      ]
    },
    {
      "cell_type": "markdown",
      "metadata": {
        "id": "r8_JSBdoew6M"
      },
      "source": [
        "## 1. 변수와 데이터 타입\n",
        "변수(variable)는 데이터를 저장하기 위한 공간으로 다양한 유형의 데이터를 저장할 수 있다. \n",
        "- 정수 (integer)\n",
        "- 실수 (floating)\n",
        "- 논리값 (boolean: True 또는 False) *대소문자 구분함\n",
        "- 문자 (string)\n",
        "\n",
        "4가지 다른 유형의 데이터를 저장하는 변수를 정의하고 이를 출력해 보자. 데이터를 출력하기 위해서는 print() 함수(function)를 이용한다. 파이썬에서의 함수는 작업을 수행하여 결과를 반환하기 위해 설계된 프로그램 코드의 집합이라고 할 수 있다.  "
      ]
    },
    {
      "cell_type": "code",
      "metadata": {
        "collapsed": true,
        "id": "zjU3q7IDew6M",
        "colab": {
          "base_uri": "https://localhost:8080/"
        },
        "outputId": "662c7f04-7aa2-4c3a-e0d5-69bb0eb4ffda"
      },
      "source": [
        "some_integer = 5\n",
        "some_float = 7.12\n",
        "some_boolean = True\n",
        "some_string = \"Student\"\n",
        "\n",
        "#변수의 값을 출력\n",
        "print(some_integer)\n",
        "print(some_float)\n",
        "print(some_boolean)\n",
        "print(some_string)\n",
        "print(some_integer, some_float, some_boolean, some_string)\n",
        "\n",
        "#변수의 데이터 타입을 출력\n",
        "print(type(some_float))\n",
        "print(type(some_string))"
      ],
      "execution_count": null,
      "outputs": [
        {
          "output_type": "stream",
          "text": [
            "5\n",
            "7.12\n",
            "True\n",
            "Student\n",
            "5 7.12 True Student\n",
            "<class 'float'>\n",
            "<class 'str'>\n"
          ],
          "name": "stdout"
        }
      ]
    },
    {
      "cell_type": "markdown",
      "metadata": {
        "id": "QnDuMNMPhnxH"
      },
      "source": [
        "## 2. 기본 연산\n",
        "산술, 비교, 논리연산자를 이용해 보자.\n",
        "- 산술 연산: + - / * %(나머지 값), **(거듭 제곱) 등\n",
        "- 비교 연산: > < <= >= == !=\n",
        "- 논리 연산: and or not "
      ]
    },
    {
      "cell_type": "code",
      "metadata": {
        "colab": {
          "base_uri": "https://localhost:8080/"
        },
        "id": "4IBckdrwjrgp",
        "outputId": "ebf0f946-10e6-484a-e84c-a35c4556256f"
      },
      "source": [
        "a = 3\n",
        "b = 5\n",
        "c = 2\n",
        "\n",
        "# 3+5 = 8 \n",
        "print(a+b) \n",
        "\n",
        "# 3+1 = 4\n",
        "a = a + 2\n",
        "print (a)\n",
        "\n",
        "# 4*2 + 5 = 13\n",
        "print (a*c+b)"
      ],
      "execution_count": null,
      "outputs": [
        {
          "output_type": "stream",
          "text": [
            "8\n",
            "5\n",
            "15\n"
          ],
          "name": "stdout"
        }
      ]
    },
    {
      "cell_type": "code",
      "metadata": {
        "colab": {
          "base_uri": "https://localhost:8080/"
        },
        "id": "dxPD59fak8MR",
        "outputId": "d378dccf-3112-4efd-d9b5-92de18f2d25c"
      },
      "source": [
        "d = True\n",
        "e = False\n",
        "\n",
        "# and : 둘 다 True일 경우에만 True\n",
        "print (d and e)\n",
        "# or : 하나라도 True일 경우 True\n",
        "print (d or e)\n",
        "# not : True(False)를 False(True)로 변경\n",
        "print (not d)\n",
        "\n",
        "#결과 값이 같다면 True, 그렇지 않다면 False\n",
        "print (10 / 2 == 3)\n",
        "print (10 % 2 == 0) "
      ],
      "execution_count": null,
      "outputs": [
        {
          "output_type": "stream",
          "text": [
            "False\n",
            "True\n",
            "False\n",
            "False\n",
            "True\n"
          ],
          "name": "stdout"
        }
      ]
    },
    {
      "cell_type": "markdown",
      "metadata": {
        "id": "vXKzB9SXoUj-"
      },
      "source": [
        "##3. 문자열\n",
        "문자열은 작은 따옴표(‘ ’) 또는 큰 따옴표 (“ ”)로 묶어서 표시한다. 여러 줄(line)로 된 문자열인 경우 \"\"\" \"\"\" 또는 ''' '''으로 묶어서 표시한다."
      ]
    },
    {
      "cell_type": "code",
      "metadata": {
        "colab": {
          "base_uri": "https://localhost:8080/"
        },
        "id": "YUf5dW9XosD2",
        "outputId": "0f695fd3-56ac-4a59-da6d-4c211bf53f90"
      },
      "source": [
        "new_string =\"Python's favorite food is perl.\"\n",
        "multi_string =\"\"\"\n",
        "Life is short.\n",
        "You need python.\n",
        "\"\"\"\n",
        "\n",
        "print(new_string)\n",
        "print(multi_string)\n",
        "\n",
        "print(1 + 2)\n",
        "print('1' + '2') "
      ],
      "execution_count": null,
      "outputs": [
        {
          "output_type": "stream",
          "text": [
            "Python's favorite food is perl.\n",
            "\n",
            "Life is short.\n",
            "You need python.\n",
            "\n",
            "3\n",
            "12\n"
          ],
          "name": "stdout"
        }
      ]
    },
    {
      "cell_type": "code",
      "metadata": {
        "colab": {
          "base_uri": "https://localhost:8080/"
        },
        "id": "Ho1k0Tw92H2h",
        "outputId": "5e0f52db-9495-4b73-eda5-12f573a13195"
      },
      "source": [
        "#데이터 타입을 문자열로 바꾸는 함수 str()을 이용하여 출력\n",
        "print (\"My integer is \" + str(some_integer) + \".\")\n",
        "\n",
        "print(some_integer)"
      ],
      "execution_count": null,
      "outputs": [
        {
          "output_type": "stream",
          "text": [
            "My integer is 5.\n",
            "5\n"
          ],
          "name": "stdout"
        }
      ]
    },
    {
      "cell_type": "markdown",
      "metadata": {
        "id": "aWfTOYGp2yhY"
      },
      "source": [
        "##4. 출력 포맷\n",
        "format() 함수를 이용하여 출력 형태를 지정해 준다."
      ]
    },
    {
      "cell_type": "code",
      "metadata": {
        "colab": {
          "base_uri": "https://localhost:8080/",
          "height": 35
        },
        "id": "flnhSbAY4AM7",
        "outputId": "4383cb93-031d-4082-94de-fae34f967bca"
      },
      "source": [
        "bannas =3\n",
        "days =5\n",
        "\n",
        "# {0} {1} 인덱스, format 함수의 입력값을 순서대로 매칭 \n",
        "\"Shayne ate {0} bannas for {1} {2} days\".format(bannas,days, bannas)"
      ],
      "execution_count": null,
      "outputs": [
        {
          "output_type": "execute_result",
          "data": {
            "application/vnd.google.colaboratory.intrinsic+json": {
              "type": "string"
            },
            "text/plain": [
              "'Shayne ate 3 bannas for 5 3 days'"
            ]
          },
          "metadata": {
            "tags": []
          },
          "execution_count": 12
        }
      ]
    },
    {
      "cell_type": "code",
      "metadata": {
        "colab": {
          "base_uri": "https://localhost:8080/",
          "height": 35
        },
        "id": "PaSinnXU4WhY",
        "outputId": "7e1f561f-41d3-4c91-cad2-feec6366bdab"
      },
      "source": [
        "model_a = 4.456545647\n",
        "model_b = 7.434356457\n",
        "\n",
        "# .3f: 소수점 3자리까지만 표현\n",
        "\"A = {0:.3f}, B={1:.2f}\".format(model_a, model_b)"
      ],
      "execution_count": null,
      "outputs": [
        {
          "output_type": "execute_result",
          "data": {
            "application/vnd.google.colaboratory.intrinsic+json": {
              "type": "string"
            },
            "text/plain": [
              "'A = 4.457, B=7.43'"
            ]
          },
          "metadata": {
            "tags": []
          },
          "execution_count": 21
        }
      ]
    },
    {
      "cell_type": "markdown",
      "metadata": {
        "id": "Mg126QFO4z7-"
      },
      "source": [
        "문자열의 각 문자마다 번호를 매겨 해당 문자만 찾아 이용할 수 있다. 번호는 0부터 시작된다.  "
      ]
    },
    {
      "cell_type": "code",
      "metadata": {
        "colab": {
          "base_uri": "https://localhost:8080/"
        },
        "id": "lWDAqdclxxro",
        "outputId": "224cbb29-8029-4f1b-a116-664e0968cdc8"
      },
      "source": [
        "msg = 'Hello World'\n",
        "#앞에서 세번째 문자 (0부터 시작이므로 2+1)\n",
        "print(msg[2])\n",
        "#뒤에서 첫번째 문자\n",
        "print(msg[-1])\n",
        "#두번째 문자부터 세번째 문자까지를 나타냄\n",
        "print(msg[1:3])\n",
        "#첫번째 문자부터 네번째 문자까지를 나타냄\n",
        "print(msg[:4])"
      ],
      "execution_count": null,
      "outputs": [
        {
          "output_type": "stream",
          "text": [
            "l\n",
            "d\n",
            "el\n",
            "Hell\n"
          ],
          "name": "stdout"
        }
      ]
    },
    {
      "cell_type": "code",
      "metadata": {
        "colab": {
          "base_uri": "https://localhost:8080/"
        },
        "id": "A1W1ysop0usI",
        "outputId": "ec75ed52-0a04-435a-86f3-d6fb448b5067"
      },
      "source": [
        "#첫 단어만 대문자로, 나머지는 소문자로\n",
        "print(msg.capitalize())\n",
        "#upper() 대문자로, lower() 소문자로  \n",
        "print(msg.upper())\n",
        "#replace 대체하기 \n",
        "print(msg.replace('Hello', 'hello'))\n",
        "\n",
        "msg = '  hello  '\n",
        "#문자열 양쪽에 있는 한 칸 이상의 연속된 공간을 지운다. \n",
        "print(msg)\n",
        "print(msg.strip())"
      ],
      "execution_count": null,
      "outputs": [
        {
          "output_type": "stream",
          "text": [
            "Hello world\n",
            "HELLO WORLD\n",
            "hello World\n",
            "  hello  \n",
            "hello\n"
          ],
          "name": "stdout"
        }
      ]
    },
    {
      "cell_type": "code",
      "metadata": {
        "colab": {
          "base_uri": "https://localhost:8080/"
        },
        "id": "IlviSVk00pk8",
        "outputId": "4c386823-919b-4f09-afa1-f1754835fab7"
      },
      "source": [
        "h = 'hello'\n",
        "k = \"world\"\n",
        "\n",
        "print(h)\n",
        "# 문자의 길이 \n",
        "print(len(h))\n",
        "\n",
        "# 문자열 사이에 공백 넣기 \n",
        "hk = h + ' ' + k\n",
        "print(hk)\n",
        "\n",
        "# 문자:%s  정수:%d  실수: %.3f (소수점 3자리)\n",
        "# 바로 뒤따르는 '%변수'의 값으로 출력\n",
        "print('%s %s %d' % (h, k, 2021))\n",
        "print(h + ' ' + k + ' ' + str(2021))\n",
        "print(h, hk)"
      ],
      "execution_count": null,
      "outputs": [
        {
          "output_type": "stream",
          "text": [
            "hello\n",
            "5\n",
            "hello world\n",
            "hello world 2021\n",
            "hello world 2021\n",
            "hello hello world\n"
          ],
          "name": "stdout"
        }
      ]
    },
    {
      "cell_type": "markdown",
      "metadata": {
        "id": "yblHjrLu3rGz"
      },
      "source": [
        "## 5. 리스트 (List)\n",
        "여러 데이터를 한 곳에 묶는 방법으로 리스트가 가장 많이 사용된다. 리스트에는 임의의 데이터 타입을 담을 수 있다. 리스트를 만들려면 [ ]를 사용하며, list()함수를 이용하여 문자를 리스트로 변환할 수 있다. "
      ]
    },
    {
      "cell_type": "code",
      "metadata": {
        "colab": {
          "base_uri": "https://localhost:8080/"
        },
        "id": "7VkuMVXz4cKw",
        "outputId": "1f6ce93b-39d9-402f-fe95-a444c376d4ed"
      },
      "source": [
        "odd = [1,3,5,7,9] \n",
        "print(odd)\n",
        "\n",
        "nums = [2,3,4,5,6]\n",
        "print(nums)\n",
        "\n",
        "str_list = list(\"abc\")\n",
        "print(str_list)"
      ],
      "execution_count": null,
      "outputs": [
        {
          "output_type": "stream",
          "text": [
            "[1, 3, 5, 7, 9]\n",
            "[2, 3, 4, 5, 6]\n",
            "['a', 'b', 'c']\n"
          ],
          "name": "stdout"
        }
      ]
    },
    {
      "cell_type": "code",
      "metadata": {
        "colab": {
          "base_uri": "https://localhost:8080/"
        },
        "id": "okjuulQ2c8VJ",
        "outputId": "f384fcbf-82b4-4a7a-ee9b-945267c19f28"
      },
      "source": [
        "print(odd[0])\n",
        "print(odd[4])\n",
        "print(odd[-2])\n",
        "print(odd[1:4])"
      ],
      "execution_count": null,
      "outputs": [
        {
          "output_type": "stream",
          "text": [
            "1\n",
            "9\n",
            "7\n",
            "[3, 5, 7]\n"
          ],
          "name": "stdout"
        }
      ]
    },
    {
      "cell_type": "code",
      "metadata": {
        "colab": {
          "base_uri": "https://localhost:8080/"
        },
        "id": "zHCbW9trdrpN",
        "outputId": "fdb80139-a4df-4e4c-aefc-0802579ec350"
      },
      "source": [
        "#in을 사용하여 리스트내에 어떤 항목이 들어 있는지를 확인하고 들어 있으면 True를 리턴한다.  \n",
        "print(1 in odd)\n",
        "\n",
        "#append() 함수를 이용하여 리스트에 요소 추가\n",
        "odd.append(11)\n",
        "\n",
        "#특정 위치에 있는 리스트의 값 수정\n",
        "odd[2]=6\n",
        "print(odd)\n",
        "\n",
        "#+를 사용하여 두 개의 리스트를 붙임\n",
        "odd = odd + [13,15,17,19]\n",
        "print(odd)"
      ],
      "execution_count": null,
      "outputs": [
        {
          "output_type": "stream",
          "text": [
            "True\n",
            "[1, 3, 6, 7, 9, 11]\n",
            "[1, 3, 6, 7, 9, 11, 13, 15, 17, 19]\n"
          ],
          "name": "stdout"
        }
      ]
    },
    {
      "cell_type": "code",
      "metadata": {
        "colab": {
          "base_uri": "https://localhost:8080/"
        },
        "id": "5Tfnc151gg63",
        "outputId": "f6818e0c-fd44-4909-a641-b0260dae7640"
      },
      "source": [
        "#join() 함수는 구분자(,) 를 포함해서 리스트를 문자열로 변환\n",
        "\n",
        "words2 = \",\".join(['e', 'f', 'g'])\n",
        "print(words2)"
      ],
      "execution_count": null,
      "outputs": [
        {
          "output_type": "stream",
          "text": [
            "e,f,g\n"
          ],
          "name": "stdout"
        }
      ]
    },
    {
      "cell_type": "markdown",
      "metadata": {
        "id": "qiPLHFSQ4dC8"
      },
      "source": [
        "## 6. 제어문과 반복문\n",
        "\n",
        "- if : 조건에 따라 다른 작업 수행\n",
        "- while, for : 조건을 만족하는 동안 반복 작업 수행\n",
        "\n",
        "if, while, for문의 다음 줄은 항상 들여쓰기를 해야한다. (보통 공백 4칸) 파이썬은 들여쓰기 자체가 문법이기 때문에, 들여쓰기를 하지 않는 경우 코드가 실행되지 않는다. if, for, while 조건문 뒤에는 반드시 콜론(:)을 써야한다."
      ]
    },
    {
      "cell_type": "code",
      "metadata": {
        "colab": {
          "base_uri": "https://localhost:8080/"
        },
        "id": "MExWEuGU4f4b",
        "outputId": "71048c92-c430-440a-8a21-26c5afa55f0c"
      },
      "source": [
        "age =15\n",
        "\n",
        "if age < 5:\n",
        "   print(\"아이\")\n",
        "else:\n",
        "   print(\"어른\")    "
      ],
      "execution_count": null,
      "outputs": [
        {
          "output_type": "stream",
          "text": [
            "어른\n"
          ],
          "name": "stdout"
        }
      ]
    },
    {
      "cell_type": "markdown",
      "metadata": {
        "id": "tA6SMLL-n4FL"
      },
      "source": [
        "range(시작 숫자, 끝 숫자) 함수는 시작 숫자부터 끝 숫자보다 하나 적은 숫자까지 포함하는 값을 만들어준다. 시작 숫자가 0인 경우는 생략가능하다. 예를 들어 range(10) 함수는 0부터 10 미만의 숫자를 포함하는 값을 만들어 준다. \n",
        "\n",
        "\n"
      ]
    },
    {
      "cell_type": "code",
      "metadata": {
        "colab": {
          "base_uri": "https://localhost:8080/"
        },
        "id": "caf-Ywlq4r84",
        "outputId": "3323b204-ca9d-4156-96c4-9b934263e35e"
      },
      "source": [
        "for i in range(10):\n",
        "    print(i)"
      ],
      "execution_count": null,
      "outputs": [
        {
          "output_type": "stream",
          "text": [
            "0\n",
            "1\n",
            "2\n",
            "3\n",
            "4\n",
            "5\n",
            "6\n",
            "7\n",
            "8\n",
            "9\n"
          ],
          "name": "stdout"
        }
      ]
    },
    {
      "cell_type": "code",
      "metadata": {
        "colab": {
          "base_uri": "https://localhost:8080/"
        },
        "id": "6yCiYTDqk48_",
        "outputId": "cd463ac5-de50-4efd-8d27-61b012b3eebb"
      },
      "source": [
        "for i in range(2,8):\n",
        "    print(i)"
      ],
      "execution_count": null,
      "outputs": [
        {
          "output_type": "stream",
          "text": [
            "2\n",
            "3\n",
            "4\n",
            "5\n",
            "6\n",
            "7\n"
          ],
          "name": "stdout"
        }
      ]
    },
    {
      "cell_type": "markdown",
      "metadata": {
        "id": "CH04n_95p5AB"
      },
      "source": [
        "반복문에서 강제로 빠져나가기 위해서는 break를 사용한다. 만약 반복문을 빠져나가지 않고 맨 처음(조건문)으로 다시 돌아가게 만들고 싶은 경우에는 continue를 사용한다. "
      ]
    },
    {
      "cell_type": "code",
      "metadata": {
        "colab": {
          "base_uri": "https://localhost:8080/"
        },
        "id": "gJ2zbEOrk960",
        "outputId": "bfa1ae08-8c20-481d-f966-39e024aa43e8"
      },
      "source": [
        "#i가 6이 되었을때 for문을 빠져나가기 때문에 6부터 숫자가 출력되지 않는다. \n",
        "for i in range(2,8):\n",
        "    if i == 6:\n",
        "        break\n",
        "    print(i)"
      ],
      "execution_count": null,
      "outputs": [
        {
          "output_type": "stream",
          "text": [
            "2\n",
            "3\n",
            "4\n",
            "5\n"
          ],
          "name": "stdout"
        }
      ]
    },
    {
      "cell_type": "code",
      "metadata": {
        "colab": {
          "base_uri": "https://localhost:8080/"
        },
        "id": "AE4nTEQWlA-r",
        "outputId": "00d2ab4e-6673-416f-a3ab-38b149ac5c41"
      },
      "source": [
        "for i in range(1,7):\n",
        "    # i가 3이면 출력되지 않고 다음 조건으로 넘어간다. \n",
        "    if i == 3:\n",
        "        continue\n",
        "\n",
        "    # i가 6이면 출력되지 않고 for문을 나가게 된다. \n",
        "    if i == 6:\n",
        "        break\n",
        "    print(i)"
      ],
      "execution_count": null,
      "outputs": [
        {
          "output_type": "stream",
          "text": [
            "1\n",
            "2\n",
            "4\n",
            "5\n"
          ],
          "name": "stdout"
        }
      ]
    },
    {
      "cell_type": "code",
      "metadata": {
        "colab": {
          "base_uri": "https://localhost:8080/"
        },
        "id": "ga1-hGxblDCU",
        "outputId": "68a2a907-046f-436b-dcff-3784b0c5488a"
      },
      "source": [
        "for i in range(0,11):\n",
        "    print(i*2)"
      ],
      "execution_count": null,
      "outputs": [
        {
          "output_type": "stream",
          "text": [
            "0\n",
            "2\n",
            "4\n",
            "6\n",
            "8\n",
            "10\n",
            "12\n",
            "14\n",
            "16\n",
            "18\n",
            "20\n"
          ],
          "name": "stdout"
        }
      ]
    },
    {
      "cell_type": "code",
      "metadata": {
        "colab": {
          "base_uri": "https://localhost:8080/"
        },
        "id": "wqk5gqw_lGLQ",
        "outputId": "3640c99f-1eec-442a-9f15-97fcfa43d642"
      },
      "source": [
        "for i in range(0,10):\n",
        "    if i == 3:\n",
        "        continue\n",
        "    if i == 6:\n",
        "        break\n",
        "    double=i*2\n",
        "  \n",
        "    print(double)"
      ],
      "execution_count": null,
      "outputs": [
        {
          "output_type": "stream",
          "text": [
            "0\n",
            "2\n",
            "4\n",
            "8\n",
            "10\n"
          ],
          "name": "stdout"
        }
      ]
    },
    {
      "cell_type": "code",
      "metadata": {
        "colab": {
          "base_uri": "https://localhost:8080/"
        },
        "id": "gb_3a6P6lQq1",
        "outputId": "edf073aa-4c7b-46ff-fade-2c72a9bf4cef"
      },
      "source": [
        "a_list =[]\n",
        "for i in range(0,10):\n",
        "    if i == 1:\n",
        "        continue\n",
        "    if i == 8:\n",
        "        break\n",
        "    double=i*2\n",
        "    a_list.append(double)\n",
        "\n",
        "print(a_list)"
      ],
      "execution_count": null,
      "outputs": [
        {
          "output_type": "stream",
          "text": [
            "[0, 4, 6, 8, 10, 12, 14]\n"
          ],
          "name": "stdout"
        }
      ]
    },
    {
      "cell_type": "code",
      "metadata": {
        "colab": {
          "base_uri": "https://localhost:8080/"
        },
        "id": "OIbbXd9FlTro",
        "outputId": "576349d3-91be-45d6-eb60-daf4dcb19fa9"
      },
      "source": [
        "# while 문과 for문을 사용하여 0부터 9까지 출력 (동일한 결과)\n",
        "idx = 0\n",
        "while idx < 10:\n",
        "    print(idx)\n",
        "    idx = idx + 1\n",
        "    \n",
        "for idx in range(10):\n",
        "    print(idx)"
      ],
      "execution_count": null,
      "outputs": [
        {
          "output_type": "stream",
          "text": [
            "0\n",
            "1\n",
            "2\n",
            "3\n",
            "4\n",
            "5\n",
            "6\n",
            "7\n",
            "8\n",
            "9\n",
            "0\n",
            "1\n",
            "2\n",
            "3\n",
            "4\n",
            "5\n",
            "6\n",
            "7\n",
            "8\n",
            "9\n"
          ],
          "name": "stdout"
        }
      ]
    },
    {
      "cell_type": "code",
      "metadata": {
        "colab": {
          "base_uri": "https://localhost:8080/"
        },
        "id": "qP-1mryslbBS",
        "outputId": "897c20dd-f6dc-451f-e2f4-a64604a69558"
      },
      "source": [
        "basket = ['apple', 'banna', 'chicken', 'juice']\n",
        "\n",
        "# 리스트의 첫번째 값과 네번째 값 출력\n",
        "print(basket[0])\n",
        "print(basket[3])"
      ],
      "execution_count": null,
      "outputs": [
        {
          "output_type": "stream",
          "text": [
            "apple\n",
            "juice\n"
          ],
          "name": "stdout"
        }
      ]
    },
    {
      "cell_type": "code",
      "metadata": {
        "colab": {
          "base_uri": "https://localhost:8080/"
        },
        "id": "BO92IiQknCDX",
        "outputId": "633c2327-c951-404b-ab4d-dbc11a3464ef"
      },
      "source": [
        "# 리스트의 각 값이 stuff 변수에 대입된 후 print() 함수를 수행하는데 이를 마지막 값까지 반복\n",
        "for stuff in basket:\n",
        "    print(stuff)"
      ],
      "execution_count": null,
      "outputs": [
        {
          "output_type": "stream",
          "text": [
            "apple\n",
            "banna\n",
            "chicken\n",
            "juice\n"
          ],
          "name": "stdout"
        }
      ]
    },
    {
      "cell_type": "markdown",
      "metadata": {
        "id": "MWxbQs3IufGN"
      },
      "source": [
        "리스트 안에 for문을 포함하는 리스트 내포(List comprehension)를 사용하면 좀 더 편리하고 직관적인 프로그램을 만들 수 있다. 리스트 내포 안에 \"if 조건\"을 사용할 수도 있다."
      ]
    },
    {
      "cell_type": "code",
      "metadata": {
        "colab": {
          "base_uri": "https://localhost:8080/"
        },
        "id": "wckhEAB2ugTh",
        "outputId": "262ec83d-519f-4458-b5ae-f9dd4d996812"
      },
      "source": [
        "values = [0, 1, 2, 3, 4]\n",
        "squares = []\n",
        "for v in values:\n",
        "    squares.append(v ** 2)\n",
        "print(squares)"
      ],
      "execution_count": null,
      "outputs": [
        {
          "output_type": "stream",
          "text": [
            "[0, 1, 4, 9, 16]\n"
          ],
          "name": "stdout"
        }
      ]
    },
    {
      "cell_type": "code",
      "metadata": {
        "colab": {
          "base_uri": "https://localhost:8080/"
        },
        "id": "vFTc7STDu6L_",
        "outputId": "18e1a12e-16c8-40b4-c251-531dad00e7e9"
      },
      "source": [
        "values = [0, 1, 2, 3, 4]\n",
        "squares = [v ** 2 for v in values]\n",
        "print(squares)"
      ],
      "execution_count": null,
      "outputs": [
        {
          "output_type": "stream",
          "text": [
            "[0, 1, 4, 9, 16]\n"
          ],
          "name": "stdout"
        }
      ]
    },
    {
      "cell_type": "code",
      "metadata": {
        "colab": {
          "base_uri": "https://localhost:8080/"
        },
        "id": "qUJUnV0ru8_Z",
        "outputId": "3caad2aa-859e-443f-9b65-808551fe1b84"
      },
      "source": [
        "values = [0, 1, 2, 3, 4]\n",
        "even_squares = [v ** 2 for v in values if v % 2 == 0]\n",
        "print(even_squares)"
      ],
      "execution_count": null,
      "outputs": [
        {
          "output_type": "stream",
          "text": [
            "[0, 4, 16]\n"
          ],
          "name": "stdout"
        }
      ]
    },
    {
      "cell_type": "markdown",
      "metadata": {
        "id": "K5scCFw1lcQS"
      },
      "source": [
        "**연습문제: 구구단 만들기**  \n",
        "for 문을 이용하여 다음과 같이 구구단 결과가 나오도록 만들시오.   \n",
        "   1 x 1 = 1  \n",
        "   1 x 2 = 2  \n",
        "   1 x 3 = 3  \n",
        "   :"
      ]
    },
    {
      "cell_type": "code",
      "metadata": {
        "id": "P6qzRlsmlb8i"
      },
      "source": [
        "# 연습문제: 구구단 만들기\n",
        "\n",
        "\n",
        "\n"
      ],
      "execution_count": null,
      "outputs": []
    },
    {
      "cell_type": "markdown",
      "metadata": {
        "id": "zJjMO0545MGk"
      },
      "source": [
        "## 7. 딕셔너리 (Dictionary)\n",
        "모든 항목이 “키(key)” - “값(value)” 으로 구성되는 데이터 형식이다. 사전형식 데이터를 만들 때는 { }를 사용한다. [] 안에 키를 넣어 사용하면 해당 키의 값을 얻을 수 있다."
      ]
    },
    {
      "cell_type": "code",
      "metadata": {
        "colab": {
          "base_uri": "https://localhost:8080/"
        },
        "id": "AwA534Hy5Vyp",
        "outputId": "8df0340a-0264-4643-f2f7-a83e7d7585bf"
      },
      "source": [
        "dic = {}\n",
        "dic['물리학과'] = '물리학의 각 분야에 걸친 이론과 응용방법을 심오하게 연구함으로써 독창적 능력을 함양하고 고도 산업사회를 선도해 갈 지도적 인재를 양성함을 목적으로 한다.'\n",
        "dic['우주과학과'] = '우주과학과는 천체 및 우주에서 일어나는 제반 현상을 과학적으로 탐사하고 연구하는 학과이다. '\n",
        "dic['우주탐사학과'] = '우주탐사학과는 우리나라의 우주탐사를 위하여 본격적으로 전문인력 양성의 기틀 마련을 목표로 한다. '\n",
        "\n",
        "print(dic)\n",
        "print(dic['물리학과'])\n",
        "print(dic['우주과학과'])\n",
        "print(dic['우주탐사학과'])"
      ],
      "execution_count": null,
      "outputs": [
        {
          "output_type": "stream",
          "text": [
            "{'물리학과': '물리학의 각 분야에 걸친 이론과 응용방법을 심오하게 연구함으로써 독창적 능력을 함양하고 고도 산업사회를 선도해 갈 지도적 인재를 양성함을 목적으로 한다.', '우주과학과': '우주과학과는 천체 및 우주에서 일어나는 제반 현상을 과학적으로 탐사하고 연구하는 학과이다. ', '우주탐사학과': '우주탐사학과는 우리나라의 우주탐사를 위하여 본격적으로 전문인력 양성의 기틀 마련을 목표로 한다. '}\n",
            "물리학의 각 분야에 걸친 이론과 응용방법을 심오하게 연구함으로써 독창적 능력을 함양하고 고도 산업사회를 선도해 갈 지도적 인재를 양성함을 목적으로 한다.\n",
            "우주과학과는 천체 및 우주에서 일어나는 제반 현상을 과학적으로 탐사하고 연구하는 학과이다. \n",
            "우주탐사학과는 우리나라의 우주탐사를 위하여 본격적으로 전문인력 양성의 기틀 마련을 목표로 한다. \n"
          ],
          "name": "stdout"
        }
      ]
    },
    {
      "cell_type": "code",
      "metadata": {
        "colab": {
          "base_uri": "https://localhost:8080/"
        },
        "id": "GK2SNYI-5Urc",
        "outputId": "1156b1e3-f313-4936-9825-73b805516052"
      },
      "source": [
        "for i in dic.keys():\n",
        "    print(i)\n",
        "    \n",
        "for item in dic.values():\n",
        "    print(item)"
      ],
      "execution_count": null,
      "outputs": [
        {
          "output_type": "stream",
          "text": [
            "물리학과\n",
            "우주과학과\n",
            "우주탐사학과\n",
            "물리학의 각 분야에 걸친 이론과 응용방법을 심오하게 연구함으로써 독창적 능력을 함양하고 고도 산업사회를 선도해 갈 지도적 인재를 양성함을 목적으로 한다.\n",
            "우주과학과는 천체 및 우주에서 일어나는 제반 현상을 과학적으로 탐사하고 연구하는 학과이다. \n",
            "우주탐사학과는 우리나라의 우주탐사를 위하여 본격적으로 전문인력 양성의 기틀 마련을 목표로 한다. \n"
          ],
          "name": "stdout"
        }
      ]
    },
    {
      "cell_type": "code",
      "metadata": {
        "colab": {
          "base_uri": "https://localhost:8080/"
        },
        "id": "6StgDGKRx_40",
        "outputId": "1e2ef336-10e2-4b8f-e276-213d981e291d"
      },
      "source": [
        "d = {'cat': 'cute', 'dog': 'furry'}  # Dictionary 데이터 생성\n",
        "print(d['cat'])       # cat 키에 해당되는 값을 출력\n",
        "print('cat' in d)     # Dictionary 안에 cat 이라는 키가 있는지 확인\n",
        "print('fish' in d)     # Dictionary 안에 cat 이라는 키가 있는지 확인"
      ],
      "execution_count": null,
      "outputs": [
        {
          "output_type": "stream",
          "text": [
            "cute\n",
            "True\n",
            "False\n"
          ],
          "name": "stdout"
        }
      ]
    },
    {
      "cell_type": "code",
      "metadata": {
        "colab": {
          "base_uri": "https://localhost:8080/"
        },
        "id": "uxyncyyW2GvN",
        "outputId": "3c1db73a-ef12-4dfe-e7ed-09f1c4f29091"
      },
      "source": [
        "d['fish'] = 'wet'    # 새로운 키-값을 추가\n",
        "print(d)\n",
        "print(d['fish'] )    "
      ],
      "execution_count": null,
      "outputs": [
        {
          "output_type": "stream",
          "text": [
            "{'cat': 'cute', 'dog': 'furry', 'fish': 'wet'}\n",
            "wet\n"
          ],
          "name": "stdout"
        }
      ]
    },
    {
      "cell_type": "code",
      "metadata": {
        "colab": {
          "base_uri": "https://localhost:8080/"
        },
        "id": "2ncgL3Zoy6AY",
        "outputId": "ee64825f-100a-4b46-924d-093e4006230a"
      },
      "source": [
        "print(d.get('monkey', 'N/A')) # 딕셔너리에 해당 키가 없다면 N/A 출력\n",
        "print(d.get('fish', 'N/A'))   # 딕셔너리에 해당 키가 있다면 해당 키 값 출력"
      ],
      "execution_count": null,
      "outputs": [
        {
          "output_type": "stream",
          "text": [
            "N/A\n",
            "wet\n"
          ],
          "name": "stdout"
        }
      ]
    },
    {
      "cell_type": "code",
      "metadata": {
        "colab": {
          "base_uri": "https://localhost:8080/"
        },
        "id": "7Ig8bbYNy-M2",
        "outputId": "f4c592f6-c5b2-4884-ba2f-2e6582bc660b"
      },
      "source": [
        "del d['fish']               # 딕셔너리의 키-값 삭제 \n",
        "print(d.get('fish', 'N/A')) # fish 라는 키 값이 존재하지 않으므로 N/A 출력"
      ],
      "execution_count": null,
      "outputs": [
        {
          "output_type": "stream",
          "text": [
            "N/A\n"
          ],
          "name": "stdout"
        }
      ]
    },
    {
      "cell_type": "code",
      "metadata": {
        "colab": {
          "base_uri": "https://localhost:8080/"
        },
        "id": "hK5pkscGy_jm",
        "outputId": "0148584f-0957-49a2-9c4a-537d8b6a37ca"
      },
      "source": [
        "d = {'person': 2, 'cat': 4, 'spider': 8}\n",
        "for animal in d:\n",
        "    print(animal)"
      ],
      "execution_count": null,
      "outputs": [
        {
          "output_type": "stream",
          "text": [
            "person\n",
            "cat\n",
            "spider\n"
          ],
          "name": "stdout"
        }
      ]
    },
    {
      "cell_type": "code",
      "metadata": {
        "colab": {
          "base_uri": "https://localhost:8080/"
        },
        "id": "wwMAYApyzAyj",
        "outputId": "b01c0275-576d-459e-c072-d2c396fb08a5"
      },
      "source": [
        "d = {'person': 2, 'cat': 4, 'spider': 8}\n",
        "for animal in d:\n",
        "    legs = d[animal]\n",
        "    print('A %s has %d legs' % (animal, legs))"
      ],
      "execution_count": null,
      "outputs": [
        {
          "output_type": "stream",
          "text": [
            "A person has 2 legs\n",
            "A cat has 4 legs\n",
            "A spider has 8 legs\n"
          ],
          "name": "stdout"
        }
      ]
    },
    {
      "cell_type": "code",
      "metadata": {
        "colab": {
          "base_uri": "https://localhost:8080/"
        },
        "id": "Xp8d5BRszCw3",
        "outputId": "e7d943df-a4a0-426b-e4b3-4ec68edba09d"
      },
      "source": [
        "#items 함수는 Key와 Value의 쌍을 튜플(key, value)로 묶은 값을 돌려준다.\n",
        "\n",
        "d = {'person': 2, 'cat': 4, 'spider': 8}\n",
        "for animal, legs in d.items():\n",
        "    print('A %s has %d legs' % (animal, legs))"
      ],
      "execution_count": null,
      "outputs": [
        {
          "output_type": "stream",
          "text": [
            "A person has 2 legs\n",
            "A cat has 4 legs\n",
            "A spider has 8 legs\n"
          ],
          "name": "stdout"
        }
      ]
    },
    {
      "cell_type": "markdown",
      "metadata": {
        "id": "X-PsI4rp5UW6"
      },
      "source": [
        "## 8. 튜플 (tuple)\n",
        "튜플은 리스트와 거의 같은 용도로 사용되나 내용을 갱신할 수 없다는 제약을 갖는다. 즉, 상수화된 리스트라고 볼 수 있다.\n",
        "이렇게 상수화된 리스트를 사용하는 이유는 더 이상 내용을 변경하는 것을 방지하는 목적도 있고, 처리속도를 빠르게 한다는 장점도 있다.\n",
        "\n",
        "리스트를 만들때와 달리 튜플을 만들려면 ( )을 사용하거나 괄호를 넣지 않아도 된다."
      ]
    },
    {
      "cell_type": "code",
      "metadata": {
        "colab": {
          "base_uri": "https://localhost:8080/"
        },
        "id": "Nw0F2FI2zRFE",
        "outputId": "3d4b81e0-794d-440f-e501-f56e6b01836f"
      },
      "source": [
        "t1 = (1, 3, 5)\n",
        "t2 = 2, 4, 6\n",
        "t3 = (1,)\n",
        "t4 = ('a', 'b', ('ab', 'cd'))\n",
        "print(type(t1))\n",
        "print(type(t2))\n",
        "print(type(t3))\n",
        "print(type(t4))\n",
        "\n",
        "print(t1)\n",
        "print(t2)\n",
        "print(t3)\n",
        "print(t4)"
      ],
      "execution_count": null,
      "outputs": [
        {
          "output_type": "stream",
          "text": [
            "<class 'tuple'>\n",
            "<class 'tuple'>\n",
            "<class 'tuple'>\n",
            "<class 'tuple'>\n",
            "(1, 3, 5)\n",
            "(2, 4, 6)\n",
            "(1,)\n",
            "('a', 'b', ('ab', 'cd'))\n"
          ],
          "name": "stdout"
        }
      ]
    },
    {
      "cell_type": "code",
      "metadata": {
        "colab": {
          "base_uri": "https://localhost:8080/"
        },
        "id": "_QqNqXKCzTIu",
        "outputId": "c3c866ac-06b1-4adf-88d3-7fc78ac50766"
      },
      "source": [
        "t = (1, 2, 3)\n",
        "print(t)\n",
        "\n",
        "l = list(t)\n",
        "print(l)\n",
        "\n",
        "t2 = tuple(l)\n",
        "print(t2)"
      ],
      "execution_count": null,
      "outputs": [
        {
          "output_type": "stream",
          "text": [
            "(1, 2, 3)\n",
            "[1, 2, 3]\n",
            "(1, 2, 3)\n"
          ],
          "name": "stdout"
        }
      ]
    },
    {
      "cell_type": "markdown",
      "metadata": {
        "id": "wfXimB1B5fWi"
      },
      "source": [
        "## 9. 함수 (function)\n",
        "함수는 일정한 작업을 수행하는 코드 블럭으로 특히 이를 반복하여 사용할 경우 코드를 효과적으로 사용할 수 있게 된다. 주로 어떤 입력값을 주었을 때 어떤 결과값을 돌려주는 형식이다. "
      ]
    },
    {
      "cell_type": "code",
      "metadata": {
        "colab": {
          "base_uri": "https://localhost:8080/"
        },
        "id": "-7tXQcvn5e-p",
        "outputId": "43bce174-8aa9-49f5-ef4e-e66bca8c725e"
      },
      "source": [
        "# def을 사용하여 함수 정의(define의 의미)\n",
        "# return은 함수의 결과값을 돌려주는 명령어\n",
        "def multiply(a,b):\n",
        "    c=a*b\n",
        "    return c\n",
        "\n",
        "print(multiply(3,4))\n",
        "print(multiply(4,6))"
      ],
      "execution_count": null,
      "outputs": [
        {
          "output_type": "stream",
          "text": [
            "12\n",
            "24\n"
          ],
          "name": "stdout"
        }
      ]
    },
    {
      "cell_type": "code",
      "metadata": {
        "colab": {
          "base_uri": "https://localhost:8080/"
        },
        "id": "qPbZyCJizbRf",
        "outputId": "36fc8667-3730-492a-d51c-24aa4ff1c519"
      },
      "source": [
        "def multiply(a,b,c):\n",
        "    f=a*b*c\n",
        "    return f\n",
        "\n",
        "print(multiply(1,2,3))"
      ],
      "execution_count": null,
      "outputs": [
        {
          "output_type": "stream",
          "text": [
            "6\n"
          ],
          "name": "stdout"
        }
      ]
    },
    {
      "cell_type": "code",
      "metadata": {
        "colab": {
          "base_uri": "https://localhost:8080/"
        },
        "id": "RigXQB42zbD0",
        "outputId": "8787323e-1490-47a0-b9c5-e68c466b102d"
      },
      "source": [
        "def sign(n):\n",
        "    if n > 0:\n",
        "        return '양수'\n",
        "    elif n < 0:\n",
        "        return '음수'\n",
        "    else:\n",
        "        return '0'\n",
        "\n",
        "for n in range(-3,3):\n",
        "    print(sign(n)) "
      ],
      "execution_count": null,
      "outputs": [
        {
          "output_type": "stream",
          "text": [
            "음수\n",
            "음수\n",
            "음수\n",
            "0\n",
            "양수\n",
            "양수\n"
          ],
          "name": "stdout"
        }
      ]
    },
    {
      "cell_type": "code",
      "metadata": {
        "colab": {
          "base_uri": "https://localhost:8080/"
        },
        "id": "Se3TPqC9zz2g",
        "outputId": "6c68b0d0-3c8a-48a5-e4a6-f209358545f8"
      },
      "source": [
        "for x in [-1, 0, 1]:\n",
        "    print(sign(x))"
      ],
      "execution_count": null,
      "outputs": [
        {
          "output_type": "stream",
          "text": [
            "음수\n",
            "0\n",
            "양수\n"
          ],
          "name": "stdout"
        }
      ]
    },
    {
      "cell_type": "markdown",
      "metadata": {
        "id": "sX4H-1-5ew6b"
      },
      "source": [
        "## 파이썬 기초를 위한 참고 자료"
      ]
    },
    {
      "cell_type": "markdown",
      "metadata": {
        "id": "0C48voB6ew6b"
      },
      "source": [
        "우선 파이썬 첫 수업을 통해 파이썬과 조금이라도 친해졌다면 그것만으로도 충분하다. 여기서 꼭 기억해야 할 것은 파이썬 문법을 모두 마스터해야 할  필요는 없다는 것이다. 마이닝 기법을 배우면서 필요할 때마다 찾아보면서 배우면 된다.\n",
        "\n",
        "그리고 코드가 실행되지 않거나 에러 메세지가 나온다고 해서 실망하지 말자. 대부분은 구글 검색을 통해 해결 방법을 찾을 수 있을 것이고, 찾을 수 없다면 스노우보드 Q&A 게시판에 질문하자!\n",
        "\n",
        "좀 더 많은 예제를 보면서 공부하고 싶다면 아래 참고 도서 이외에도 도서관이나 인터넷을 통해 구할 수 있는 파이썬 자료면 어떤 것이라도 참조해도 좋다. \n",
        "- [Codecademy's Python Course](https://www.codecademy.com/learn/learn-python-3)\n",
        "- [Python for Data Analysis](https://www.amazon.com/Python-Data-Analysis-Wrangling-IPython-ebook/dp/B009NLMB8Q/ref=mt_kindle?_encoding=UTF8&me=) \n",
        "- [Pandas Cookbook](https://www.amazon.com/Pandas-Cookbook-Scientific-Computing-Visualization/dp/1784393878) \n",
        "- [토닥토닥 파이썬 기초](https://wikidocs.net/book/1637)\n",
        "- [점프 투 파이썬](https://wikidocs.net/book/1)"
      ]
    }
  ]
}